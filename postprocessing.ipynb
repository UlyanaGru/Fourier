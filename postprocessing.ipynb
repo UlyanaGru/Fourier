{
 "cells": [
  {
   "cell_type": "markdown",
   "id": "bca11f90",
   "metadata": {},
   "source": [
    "here processed the film height fields with a fixed time interval. according Fourier frequencies was obtained wave characteristics"
   ]
  },
  {
   "cell_type": "code",
   "execution_count": 5,
   "id": "668b8a43",
   "metadata": {},
   "outputs": [],
   "source": [
    "def init_matplotlib(name, font_path=None, fig_size_mm=(140, 70), dpi=150, \n",
    "                   font_size=12, output_format='jpg'):\n",
    "    import matplotlib.font_manager as font_manager\n",
    "    \"\"\"Initialization params matplotlib with customizible parameters\n",
    "    Args:\n",
    "        name: matplotlib module (plt)\n",
    "        font_path: the path to the font file\n",
    "        fig_size_mm: the size of the figure in mm (width, height)\n",
    "        dpi: resolution\n",
    "        font_size: базовый размер шрифта\n",
    "        output_format: формат сохранения\n",
    "    \"\"\"\n",
    "    #reset to default settings\n",
    "    name.rcParams.update(plt.rcParamsDefault)\n",
    "    name.style.use('classic')\n",
    "    #font settings with error handling\n",
    "    if font_path is None:\n",
    "        font_path = 'c:\\\\windows\\\\fonts\\\\times.ttf'\n",
    "    try:\n",
    "        prop = font_manager.FontProperties(fname=font_path)\n",
    "        name.rcParams['font.family'] = prop.get_name()\n",
    "    except (OSError, RuntimeError) as e:\n",
    "        print(f\"Warning: The {font_path} font could not be loaded. The default font is used. Error: {e}\")\n",
    "        name.rcParams['font.family'] = 'serif'\n",
    "    #converting mm to inches\n",
    "    fig_size_inch = (fig_size_mm[0] / 25.4, fig_size_mm[1] / 25.4)\n",
    "    #grouping parameters for batch installation\n",
    "    params = {\n",
    "        #dimension and resolution\n",
    "        \"figure.figsize\": fig_size_inch,\n",
    "        \"figure.dpi\": dpi,\n",
    "        \"savefig.dpi\": dpi,\n",
    "        \"savefig.format\": output_format,\n",
    "        #fonts\n",
    "        \"font.size\": font_size,\n",
    "        \"axes.titlesize\": font_size,\n",
    "        \"axes.labelsize\": font_size,\n",
    "        \"xtick.labelsize\": font_size,\n",
    "        \"ytick.labelsize\": font_size,\n",
    "        \"legend.fontsize\": font_size,\n",
    "        #lines and msrkers\n",
    "        \"lines.linewidth\": 0.5,\n",
    "        \"lines.markersize\": 3.0,\n",
    "        \"lines.markeredgewidth\": 1.0,\n",
    "        \"markers.fillstyle\": 'none',\n",
    "        #legend\n",
    "        \"legend.numpoints\": 1,\n",
    "        \"legend.columnspacing\": 1.5,\n",
    "        \"legend.handlelength\": 2.0,\n",
    "        #axes\n",
    "        \"axes.formatter.limits\": (-7, 7),\n",
    "        \"axes.formatter.use_locale\": True\n",
    "    }\n",
    "    name.rcParams.update(params)\n",
    "\n",
    "#an alternative version with context return\n",
    "def matplotlib_context(**kwargs):\n",
    "    \"\"\"\n",
    "    Сontext manager for temporary application of settings\n",
    "    \"\"\"\n",
    "    import matplotlib as mpl\n",
    "    import matplotlib.pyplot as plt\n",
    "    from contextlib import contextmanager\n",
    "    @contextmanager\n",
    "    def context():\n",
    "        original_params = mpl.rcParams.copy()\n",
    "        try:\n",
    "            init_matplotlib(plt, **kwargs)\n",
    "            yield plt\n",
    "        finally:\n",
    "            mpl.rcParams.update(original_params)\n",
    "    \n",
    "    return context()"
   ]
  },
  {
   "cell_type": "code",
   "execution_count": 6,
   "id": "3d506c5e",
   "metadata": {},
   "outputs": [],
   "source": [
    "import numpy as np\n",
    "import pandas as pd\n",
    "import matplotlib.pyplot as plt\n",
    "from scipy.interpolate import interp1d\n",
    "from scipy.signal import correlate"
   ]
  },
  {
   "cell_type": "code",
   "execution_count": 7,
   "id": "cfabde8b",
   "metadata": {},
   "outputs": [],
   "source": [
    "init_matplotlib(plt)"
   ]
  },
  {
   "cell_type": "code",
   "execution_count": null,
   "id": "bed78965",
   "metadata": {},
   "outputs": [],
   "source": [
    "filepath = r''\n",
    "with open(filepath, 'r') as f:\n",
    "    first_line = f.readline().strip() #1st strip\n",
    "    #for structured mesh read width CV dx\n",
    "    dxmesh = float(first_line)"
   ]
  },
  {
   "cell_type": "code",
   "execution_count": 17,
   "id": "9fc24f65",
   "metadata": {},
   "outputs": [],
   "source": [
    "data = pd.read_csv(filepath, skiprows=1)\n",
    "last_column_name = data.columns[-1]\n",
    "nmax = int(last_column_name[1:])\n",
    "lmax = nmax*dxmesh"
   ]
  }
 ],
 "metadata": {
  "kernelspec": {
   "display_name": "Python 3",
   "language": "python",
   "name": "python3"
  },
  "language_info": {
   "codemirror_mode": {
    "name": "ipython",
    "version": 3
   },
   "file_extension": ".py",
   "mimetype": "text/x-python",
   "name": "python",
   "nbconvert_exporter": "python",
   "pygments_lexer": "ipython3",
   "version": "3.12.4"
  }
 },
 "nbformat": 4,
 "nbformat_minor": 5
}
