{
 "cells": [
  {
   "cell_type": "markdown",
   "id": "bca11f90",
   "metadata": {},
   "source": [
    "here processed the film height fields with a fixed time interval. according Fourier frequencies was obtained wave characteristics"
   ]
  },
  {
   "cell_type": "code",
   "execution_count": 5,
   "id": "668b8a43",
   "metadata": {},
   "outputs": [],
   "source": [
    "def init_matplotlib(name, font_path=None, fig_size_mm=(140, 70), dpi=150, \n",
    "                   font_size=12, output_format='jpg'):\n",
    "    import matplotlib.font_manager as font_manager\n",
    "    \"\"\"Initialization params matplotlib with customizible parameters\n",
    "    Args:\n",
    "        name: matplotlib module (plt)\n",
    "        font_path: the path to the font file\n",
    "        fig_size_mm: the size of the figure in mm (width, height)\n",
    "        dpi: resolution\n",
    "        font_size: базовый размер шрифта\n",
    "        output_format: формат сохранения\n",
    "    \"\"\"\n",
    "    #reset to default settings\n",
    "    name.rcParams.update(plt.rcParamsDefault)\n",
    "    name.style.use('classic')\n",
    "    #font settings with error handling\n",
    "    if font_path is None:\n",
    "        font_path = 'c:\\\\windows\\\\fonts\\\\times.ttf'\n",
    "    try:\n",
    "        prop = font_manager.FontProperties(fname=font_path)\n",
    "        name.rcParams['font.family'] = prop.get_name()\n",
    "    except (OSError, RuntimeError) as e:\n",
    "        print(f\"Warning: The {font_path} font could not be loaded. The default font is used. Error: {e}\")\n",
    "        name.rcParams['font.family'] = 'serif'\n",
    "    #converting mm to inches\n",
    "    fig_size_inch = (fig_size_mm[0] / 25.4, fig_size_mm[1] / 25.4)\n",
    "    #grouping parameters for batch installation\n",
    "    params = {\n",
    "        #dimension and resolution\n",
    "        \"figure.figsize\": fig_size_inch,\n",
    "        \"figure.dpi\": dpi,\n",
    "        \"savefig.dpi\": dpi,\n",
    "        \"savefig.format\": output_format,\n",
    "        #fonts\n",
    "        \"font.size\": font_size,\n",
    "        \"axes.titlesize\": font_size,\n",
    "        \"axes.labelsize\": font_size,\n",
    "        \"xtick.labelsize\": font_size,\n",
    "        \"ytick.labelsize\": font_size,\n",
    "        \"legend.fontsize\": font_size,\n",
    "        #lines and msrkers\n",
    "        \"lines.linewidth\": 0.5,\n",
    "        \"lines.markersize\": 3.0,\n",
    "        \"lines.markeredgewidth\": 1.0,\n",
    "        \"markers.fillstyle\": 'none',\n",
    "        #legend\n",
    "        \"legend.numpoints\": 1,\n",
    "        \"legend.columnspacing\": 1.5,\n",
    "        \"legend.handlelength\": 2.0,\n",
    "        #axes\n",
    "        \"axes.formatter.limits\": (-7, 7),\n",
    "        \"axes.formatter.use_locale\": True\n",
    "    }\n",
    "    name.rcParams.update(params)\n",
    "\n",
    "#an alternative version with context return\n",
    "def matplotlib_context(**kwargs):\n",
    "    \"\"\"\n",
    "    Сontext manager for temporary application of settings\n",
    "    \"\"\"\n",
    "    import matplotlib as mpl\n",
    "    import matplotlib.pyplot as plt\n",
    "    from contextlib import contextmanager\n",
    "    @contextmanager\n",
    "    def context():\n",
    "        original_params = mpl.rcParams.copy()\n",
    "        try:\n",
    "            init_matplotlib(plt, **kwargs)\n",
    "            yield plt\n",
    "        finally:\n",
    "            mpl.rcParams.update(original_params)\n",
    "    \n",
    "    return context()"
   ]
  },
  {
   "cell_type": "code",
   "execution_count": 6,
   "id": "3d506c5e",
   "metadata": {},
   "outputs": [],
   "source": [
    "import numpy as np\n",
    "import pandas as pd\n",
    "import matplotlib.pyplot as plt\n",
    "from scipy.interpolate import interp1d\n",
    "from scipy.signal import correlate"
   ]
  },
  {
   "cell_type": "code",
   "execution_count": 7,
   "id": "cfabde8b",
   "metadata": {},
   "outputs": [],
   "source": [
    "init_matplotlib(plt)"
   ]
  },
  {
   "cell_type": "code",
   "execution_count": 8,
   "id": "bed78965",
   "metadata": {},
   "outputs": [
    {
     "ename": "FileNotFoundError",
     "evalue": "[Errno 2] No such file or directory: ''",
     "output_type": "error",
     "traceback": [
      "\u001b[1;31m---------------------------------------------------------------------------\u001b[0m",
      "\u001b[1;31mFileNotFoundError\u001b[0m                         Traceback (most recent call last)",
      "Cell \u001b[1;32mIn[8], line 2\u001b[0m\n\u001b[0;32m      1\u001b[0m filename \u001b[38;5;241m=\u001b[39m \u001b[38;5;124mr\u001b[39m\u001b[38;5;124m'\u001b[39m\u001b[38;5;124m'\u001b[39m\n\u001b[1;32m----> 2\u001b[0m \u001b[38;5;28;01mwith\u001b[39;00m \u001b[38;5;28;43mopen\u001b[39;49m\u001b[43m(\u001b[49m\u001b[43mfilename\u001b[49m\u001b[43m,\u001b[49m\u001b[43m \u001b[49m\u001b[38;5;124;43m'\u001b[39;49m\u001b[38;5;124;43mr\u001b[39;49m\u001b[38;5;124;43m'\u001b[39;49m\u001b[43m)\u001b[49m \u001b[38;5;28;01mas\u001b[39;00m f:\n\u001b[0;32m      3\u001b[0m     first_line \u001b[38;5;241m=\u001b[39m f\u001b[38;5;241m.\u001b[39mreadline()\u001b[38;5;241m.\u001b[39mstrip() \u001b[38;5;66;03m#1st strip\u001b[39;00m\n\u001b[0;32m      4\u001b[0m     \u001b[38;5;66;03m#for structured mesh read width CV dx\u001b[39;00m\n",
      "File \u001b[1;32md:\\Python 3.12.4 amd64\\Lib\\site-packages\\IPython\\core\\interactiveshell.py:284\u001b[0m, in \u001b[0;36m_modified_open\u001b[1;34m(file, *args, **kwargs)\u001b[0m\n\u001b[0;32m    277\u001b[0m \u001b[38;5;28;01mif\u001b[39;00m file \u001b[38;5;129;01min\u001b[39;00m {\u001b[38;5;241m0\u001b[39m, \u001b[38;5;241m1\u001b[39m, \u001b[38;5;241m2\u001b[39m}:\n\u001b[0;32m    278\u001b[0m     \u001b[38;5;28;01mraise\u001b[39;00m \u001b[38;5;167;01mValueError\u001b[39;00m(\n\u001b[0;32m    279\u001b[0m         \u001b[38;5;124mf\u001b[39m\u001b[38;5;124m\"\u001b[39m\u001b[38;5;124mIPython won\u001b[39m\u001b[38;5;124m'\u001b[39m\u001b[38;5;124mt let you open fd=\u001b[39m\u001b[38;5;132;01m{\u001b[39;00mfile\u001b[38;5;132;01m}\u001b[39;00m\u001b[38;5;124m by default \u001b[39m\u001b[38;5;124m\"\u001b[39m\n\u001b[0;32m    280\u001b[0m         \u001b[38;5;124m\"\u001b[39m\u001b[38;5;124mas it is likely to crash IPython. If you know what you are doing, \u001b[39m\u001b[38;5;124m\"\u001b[39m\n\u001b[0;32m    281\u001b[0m         \u001b[38;5;124m\"\u001b[39m\u001b[38;5;124myou can use builtins\u001b[39m\u001b[38;5;124m'\u001b[39m\u001b[38;5;124m open.\u001b[39m\u001b[38;5;124m\"\u001b[39m\n\u001b[0;32m    282\u001b[0m     )\n\u001b[1;32m--> 284\u001b[0m \u001b[38;5;28;01mreturn\u001b[39;00m \u001b[43mio_open\u001b[49m\u001b[43m(\u001b[49m\u001b[43mfile\u001b[49m\u001b[43m,\u001b[49m\u001b[43m \u001b[49m\u001b[38;5;241;43m*\u001b[39;49m\u001b[43margs\u001b[49m\u001b[43m,\u001b[49m\u001b[43m \u001b[49m\u001b[38;5;241;43m*\u001b[39;49m\u001b[38;5;241;43m*\u001b[39;49m\u001b[43mkwargs\u001b[49m\u001b[43m)\u001b[49m\n",
      "\u001b[1;31mFileNotFoundError\u001b[0m: [Errno 2] No such file or directory: ''"
     ]
    }
   ],
   "source": [
    "filename = r''\n",
    "with open(filename, 'r') as f:\n",
    "    first_line = f.readline().strip() #1st strip\n",
    "    #for structured mesh read width CV dx\n",
    "    dxmesh = float(first_line)"
   ]
  }
 ],
 "metadata": {
  "kernelspec": {
   "display_name": "Python 3",
   "language": "python",
   "name": "python3"
  },
  "language_info": {
   "codemirror_mode": {
    "name": "ipython",
    "version": 3
   },
   "file_extension": ".py",
   "mimetype": "text/x-python",
   "name": "python",
   "nbconvert_exporter": "python",
   "pygments_lexer": "ipython3",
   "version": "3.12.4"
  }
 },
 "nbformat": 4,
 "nbformat_minor": 5
}
