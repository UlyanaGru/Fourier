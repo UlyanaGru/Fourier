{
 "cells": [
  {
   "cell_type": "markdown",
   "id": "71573471",
   "metadata": {},
   "source": [
    "### Попытка окна №1 (размерности странные и величины)"
   ]
  },
  {
   "cell_type": "code",
   "execution_count": null,
   "id": "338d12af",
   "metadata": {},
   "outputs": [],
   "source": [
    "import numpy as np\n",
    "import matplotlib.pyplot as plt\n",
    "from numpy.fft import fft2, fftshift, fftfreq\n",
    "\n",
    "nx_max = 1500\n",
    "ny_max = 60\n",
    "dt_step = 0.001\n",
    "x_frac_start = 0.3 \n",
    "x_frac_end = 0.8\n",
    "t_start = 0.7"
   ]
  },
  {
   "cell_type": "code",
   "execution_count": null,
   "id": "458cbc6b",
   "metadata": {},
   "outputs": [],
   "source": [
    "filename = f\"./data/s2d_film_time_statistic_{nx_max}_{ny_max}.dat\"\n",
    "with open(filename, \"r\") as f:\n",
    "    first_line = f.readline().strip()\n",
    "    dx_step = float(first_line)\n",
    "\n",
    "tf_ind = int(t_start/dt_step)\n",
    "xf_ind = int(x_frac_start*nx_max)\n",
    "xl_ind = int(x_frac_end*nx_max)\n",
    "data = np.loadtxt(filename, skiprows=2, delimiter=',')\n",
    "data = data[:, 1:]*1.0e3 "
   ]
  },
  {
   "cell_type": "code",
   "execution_count": null,
   "id": "325b5df5",
   "metadata": {},
   "outputs": [],
   "source": [
    "\n",
    "#Попытка 2D-анализа для сигнала в каждой отдельной точке с выводом на график\n",
    "#список с значениям получившихся длин волн в точках от 0 до 1500\n",
    "lenght_waves = list()\n",
    "#список с значениям получившихся частот в точках от 0 до 1500\n",
    "freq_waves = list()\n",
    "#список с значениям получившихся фазовых скоростей в точках от 0 до 1500\n",
    "uw_waves = list()\n",
    "#координаты для графика\n",
    "x_positions = list()\n",
    "\n",
    "window_size_x = 25\n",
    "step_x = 1\n",
    "for start_x in range(0, nx_max - window_size_x + 1, step_x):\n",
    "    end_x = start_x + window_size_x\n",
    "    data_window = data[:, start_x:end_x]\n",
    "    data_detrend = data_window - np.mean(data_window, axis=1, keepdims=True)\n",
    "    nt, nx_local = data_detrend.shape\n",
    "    #тут 2D FFT\n",
    "    win_t = np.hanning(nt)[:, None]\n",
    "    win_x = np.hanning(nx_local)[None, :]\n",
    "    data_win = data_detrend * win_t * win_x\n",
    "    spec2 = fftshift(fft2(data_win))\n",
    "    power = np.abs(spec2)**2 \n",
    "    freqs = fftshift(fftfreq(nt, d=dt_step))     # шт / t-ед.\n",
    "    wavenums = fftshift(fftfreq(nx_local, d=dt_step))  # шт / x-ед\n",
    "    power_flat = power.copy()\n",
    "    peak_idx = np.unravel_index(np.argmax(power_flat), power_flat.shape)\n",
    "    f_peak = freqs[peak_idx[0]]\n",
    "    k_peak = wavenums[peak_idx[1]]\n",
    "    if k_peak != 0:\n",
    "        u_phase = f_peak / k_peak\n",
    "    else:\n",
    "        u_phase = np.nan\n",
    "    lambda_phys = 1 / (k_peak / dx_step)       # длина волны, м\n",
    "    freq_phys = f_peak / dt_step                     # частота, Гц\n",
    "    u_phys = freq_phys * lambda_phys            # фазовая скорость, м/с\n",
    "    x_center = start_x + window_size_x // 2\n",
    "    x_positions.append(x_center)\n",
    "    #обработка\n",
    "    lenght_waves.append(np.abs(lambda_phys*100) if not np.isnan(lambda_phys) else 0)\n",
    "    freq_waves.append(np.abs(freq_phys) if not np.isnan(freq_phys) else 0)\n",
    "    uw_waves.append(np.abs(u_phys*100) if not np.isnan(u_phys) else 0)"
   ]
  },
  {
   "cell_type": "code",
   "execution_count": null,
   "id": "36878382",
   "metadata": {},
   "outputs": [],
   "source": [
    "#set(list(lenght_waves))"
   ]
  },
  {
   "cell_type": "code",
   "execution_count": null,
   "id": "214c8265",
   "metadata": {},
   "outputs": [],
   "source": [
    "#set(list(freq_waves))"
   ]
  },
  {
   "cell_type": "code",
   "execution_count": null,
   "id": "fd065c71",
   "metadata": {},
   "outputs": [],
   "source": [
    "#set(list(uw_waves))"
   ]
  },
  {
   "cell_type": "code",
   "execution_count": null,
   "id": "11ea0774",
   "metadata": {},
   "outputs": [],
   "source": [
    "lenght_waves = np.array(lenght_waves)\n",
    "freq_waves = np.array(freq_waves)\n",
    "uw_waves = np.array(uw_waves)\n",
    "\n",
    "# ymin0, ymax0 = 0.815, 0.825\n",
    "# ymin1, ymax1 = 27.0, 27.1\n",
    "# ymin2, ymax2 = 21., 23.\n",
    "\n",
    "fig, axes = plt.subplots(3, 1, figsize=(12, 10), sharex=True)\n",
    "axes[0].plot(x_positions, lenght_waves, 'b-', linewidth=1)\n",
    "axes[0].set_ylabel('Длина волны, см')\n",
    "#axes[0].set_ylim(ymin0, ymax0)\n",
    "axes[0].grid(True)\n",
    "axes[1].plot(x_positions, freq_waves, 'r-', linewidth=1)\n",
    "axes[1].set_ylabel('Частота, Гц')\n",
    "#axes[1].set_ylim(ymin1, ymax1)\n",
    "axes[1].grid(True)\n",
    "axes[2].plot(x_positions, uw_waves, 'g-', linewidth=1)\n",
    "axes[2].set_ylabel('Фазовая скорость, см/с')\n",
    "axes[2].set_xlabel('x-позиция')\n",
    "#axes[2].set_ylim(ymin2, ymax2)\n",
    "axes[2].grid(True)\n",
    "plt.tight_layout()\n",
    "plt.show()"
   ]
  },
  {
   "cell_type": "markdown",
   "id": "ddc91a89",
   "metadata": {},
   "source": [
    "### Поиск максимальной амплитуды в каждой точке"
   ]
  },
  {
   "attachments": {
    "image.png": {
     "image/png": "[encoded data removed]"
    }
   },
   "cell_type": "markdown",
   "id": "99bd20a2",
   "metadata": {},
   "source": [
    "![image.png](attachment:image.png)"
   ]
  },
  {
   "cell_type": "code",
   "execution_count": 1,
   "id": "39908b08",
   "metadata": {},
   "outputs": [],
   "source": [
    "import numpy as np\n",
    "import matplotlib.pyplot as plt\n",
    "from scipy.signal import find_peaks\n",
    "import pandas as pd\n",
    "\n",
    "nx_max = 1500\n",
    "ny_max = 60\n",
    "dt_step = 0.001\n",
    "x_frac_start = 0.3 \n",
    "x_frac_end = 0.8\n",
    "t_start = 0.7"
   ]
  },
  {
   "cell_type": "code",
   "execution_count": 2,
   "id": "5b423967",
   "metadata": {},
   "outputs": [],
   "source": [
    "filename = f\"./data/s2d_film_time_statistic_{nx_max}_{ny_max}.dat\"\n",
    "with open(filename, \"r\") as f:\n",
    "    first_line = f.readline().strip()\n",
    "    dx_step = float(first_line)\n",
    "tf_ind = int(t_start/dt_step)\n",
    "xf_ind = int(x_frac_start*nx_max)\n",
    "xl_ind = int(x_frac_end*nx_max)\n",
    "data = np.loadtxt(filename, skiprows=2, delimiter=',')\n",
    "data_time = data[:, 0]\n",
    "data = data[:, 1:]*1.0e3"
   ]
  },
  {
   "cell_type": "markdown",
   "id": "35f50fa6",
   "metadata": {},
   "source": [
    "#### Для последнего момента времени"
   ]
  },
  {
   "cell_type": "code",
   "execution_count": null,
   "id": "2867c144",
   "metadata": {},
   "outputs": [],
   "source": [
    "time_slice = -1  #последний момент времени\n",
    "data_slice = data[time_slice, :]  #массив по пространству\n",
    "peaks_ind = []\n",
    "peaks_values = []\n",
    "#находим пики по пространственной координате\n",
    "peaks, properties = find_peaks(data_slice)\n",
    "peaks_ind.append(peaks)\n",
    "peaks_values = data_slice[peaks]\n",
    "x_coords = np.arange(0, dx_step * len(data_slice), dx_step)\n",
    "print(f\"Размер x_coords: {x_coords.shape}\")\n",
    "print(f\"Размер data_slice: {data_slice.shape}\")\n",
    "plt.figure(figsize=(15, 6))\n",
    "plt.plot(x_coords, data_slice, 'r-', linewidth=1, label='Толщина пленки, мм')\n",
    "plt.plot(x_coords[peaks], peaks_values, 'xb', markersize=8, label='Пики')\n",
    "plt.xlabel('Координата по пластине')\n",
    "plt.ylabel('Толщина пленки')\n",
    "plt.legend()\n",
    "plt.grid(True, alpha=0.3)\n",
    "plt.title(f'Пики толщины пленки в последний момент времени')\n",
    "plt.show()"
   ]
  },
  {
   "cell_type": "markdown",
   "id": "f719ece0",
   "metadata": {},
   "source": [
    "#### Для всех времен"
   ]
  },
  {
   "cell_type": "code",
   "execution_count": null,
   "id": "feaeaa94",
   "metadata": {},
   "outputs": [],
   "source": [
    "peaks_ind = []\n",
    "peaks_values = []\n",
    "x_coords = []\n",
    "max_peaks = []\n",
    "min_peaks = []\n",
    "ampl_waves = []\n",
    "for i in range(len(list(data_time))):\n",
    "    data_slice = data[i, :]  #массив по пространству\n",
    "    peaks, properties = find_peaks(data_slice)\n",
    "    peaks_ind.append(peaks)\n",
    "    peaks_values.append(data_slice[peaks])\n",
    "    #есть ли пик\n",
    "    if len(peaks) > 0:\n",
    "        current_peaks = data_slice[peaks]\n",
    "        peaks_values.append(current_peaks)\n",
    "        max_peaks.append(np.max(current_peaks))\n",
    "        min_peaks.append(np.min(current_peaks))\n",
    "        ampl_waves.append((np.max(current_peaks) - np.min(current_peaks))/(np.max(current_peaks) + np.min(current_peaks)))\n",
    "    else:\n",
    "        #nan\n",
    "        peaks_values.append(np.array([]))\n",
    "        max_peaks.append(np.nan)\n",
    "        min_peaks.append(np.nan)\n",
    "        ampl_waves.append(np.nan)"
   ]
  },
  {
   "cell_type": "code",
   "execution_count": null,
   "id": "85fa9833",
   "metadata": {},
   "outputs": [],
   "source": [
    "plt.plot(data_time,ampl_waves, 'b-')\n",
    "plt.xlabel('Время, с', fontsize=18)\n",
    "plt.ylabel(r'$\\alpha = \\frac{\\alpha_{\\max} - \\alpha_{\\min}}{\\alpha_{\\max} + \\alpha_{\\min}}$', fontsize=18)\n",
    "plt.legend()\n",
    "plt.grid(True, alpha=0.3)\n",
    "plt.title(f'Амлитуда волн, б/м', fontsize=20)\n",
    "plt.show()"
   ]
  },
  {
   "cell_type": "code",
   "execution_count": 3,
   "id": "1f5de67e",
   "metadata": {},
   "outputs": [],
   "source": [
    "index = np.argmax(data_time[data_time>0.2])"
   ]
  },
  {
   "cell_type": "code",
   "execution_count": 4,
   "id": "dc7c4ec9",
   "metadata": {},
   "outputs": [],
   "source": [
    "peaks_ind = []\n",
    "peaks_values = []\n",
    "x_coords = []\n",
    "max_peaks = []\n",
    "min_peaks = []\n",
    "ampl_waves = []\n",
    "for i in range(nx_max):\n",
    "    data_slice = data[index:, i]  #массив по времени\n",
    "    peaks, properties = find_peaks(data_slice)\n",
    "    peaks_ind.append(peaks)\n",
    "    peaks_values.append(data_slice[peaks])\n",
    "    #есть ли пик\n",
    "    if len(peaks) > 0:\n",
    "        current_peaks = data_slice[peaks]\n",
    "        peaks_values.append(current_peaks)\n",
    "        max_peaks.append(np.max(current_peaks))\n",
    "        min_peaks.append(np.min(current_peaks))\n",
    "        ampl_waves.append((np.max(current_peaks) - np.min(current_peaks))/(np.max(current_peaks) + np.min(current_peaks)))\n",
    "    else:\n",
    "        #nan\n",
    "        peaks_values.append(np.array([]))\n",
    "        max_peaks.append(np.nan)\n",
    "        min_peaks.append(np.nan)\n",
    "        ampl_waves.append(np.nan)\n",
    "x_coords = np.arange(0, dx_step * nx_max, dx_step)"
   ]
  },
  {
   "cell_type": "code",
   "execution_count": 5,
   "id": "e17c326a",
   "metadata": {},
   "outputs": [
    {
     "name": "stderr",
     "output_type": "stream",
     "text": [
      "C:\\Users\\Uluana\\AppData\\Local\\Temp\\ipykernel_11764\\1503330914.py:4: UserWarning: No artists with labels found to put in legend.  Note that artists whose label start with an underscore are ignored when legend() is called with no argument.\n",
      "  plt.legend()\n"
     ]
    },
    {
     "data": {
      "image/png": "[encoded data removed]",
      "text/plain": [
       "<Figure size 640x480 with 1 Axes>"
      ]
     },
     "metadata": {},
     "output_type": "display_data"
    }
   ],
   "source": [
    "plt.plot(x_coords,ampl_waves, 'b-')\n",
    "plt.xlabel('Координата, мм', fontsize=18)\n",
    "plt.ylabel(r'$\\alpha = \\frac{\\alpha_{\\max} - \\alpha_{\\min}}{\\alpha_{\\max} + \\alpha_{\\min}}$', fontsize=18)\n",
    "plt.legend()\n",
    "plt.grid(True, alpha=0.3)\n",
    "plt.title(f'Амлитуда волн, б/м', fontsize=20)\n",
    "plt.show()"
   ]
  }
 ],
 "metadata": {
  "kernelspec": {
   "display_name": "Python 3",
   "language": "python",
   "name": "python3"
  },
  "language_info": {
   "codemirror_mode": {
    "name": "ipython",
    "version": 3
   },
   "file_extension": ".py",
   "mimetype": "text/x-python",
   "name": "python",
   "nbconvert_exporter": "python",
   "pygments_lexer": "ipython3",
   "version": "3.14.0"
  }
 },
 "nbformat": 4,
 "nbformat_minor": 5
}
